{
  "cells": [
    {
      "cell_type": "code",
      "execution_count": null,
      "metadata": {
        "colab": {
          "base_uri": "https://localhost:8080/"
        },
        "id": "0C1IEy5xknsz",
        "outputId": "68427727-8698-40c3-b27a-8f9515e91cd0"
      },
      "outputs": [
        {
          "output_type": "stream",
          "name": "stdout",
          "text": [
            "[ 1  8 27 64]\n",
            "[[ 1  2  3  4]\n",
            " [ 2  4  9 16]\n",
            " [ 4  8 18 32]]\n",
            "3\n"
          ]
        }
      ],
      "source": [
        "#Numpy Array Basics\n",
        "# importing numpy #pip install numpy # conda install numpy\n",
        "import numpy as np \n",
        "#import array  #alias  #include<stdio.h> include <math.h>     [7,8.5,'sasi']  list , array , series ,dataframe\n",
        "\n",
        "# Defining 1D array  # scalar\n",
        "my1DArray = np.array() # row , list  #1*4 series \n",
        "print(my1DArray)\n",
        "\n",
        "# Defining and printing 2D array #vector\n",
        "my2DArray = np.array([[1, 2, 3, 4], [2, 4, 9, 16], [4, 8, 18, 32]]) # 3* 4 = 1 matrix 300 *400 = one matrix\n",
        "print(my2DArray)\n",
        "\n",
        "#Defining and printing 3D array # matrix\n",
        "my3Darray = np.array([[[ 1, 2 , 3 , 4],[ 5 , 6 , 7  ,8]], [[ 1,  2,  3,  4],[ 9, 10, 11, 12]]]) #2*4,2 = 2 matrix\n",
        "print(my3Darray.ndim)\n",
        "\n"
      ]
    },
    {
      "cell_type": "markdown",
      "source": [
        "[7,8.0,9.7]  array ;  series ; 1 row;  record"
      ],
      "metadata": {
        "id": "zU-sPTaQbmJg"
      }
    },
    {
      "cell_type": "code",
      "source": [
        "my2DArray.ndim"
      ],
      "metadata": {
        "colab": {
          "base_uri": "https://localhost:8080/"
        },
        "id": "GqaFDFhRIsbY",
        "outputId": "eaa186ef-c907-4d87-ebdd-60d551418a40"
      },
      "execution_count": null,
      "outputs": [
        {
          "output_type": "execute_result",
          "data": {
            "text/plain": [
              "2"
            ]
          },
          "metadata": {},
          "execution_count": 2
        }
      ]
    },
    {
      "cell_type": "code",
      "source": [
        "my2DArray.shape"
      ],
      "metadata": {
        "colab": {
          "base_uri": "https://localhost:8080/"
        },
        "id": "9ku0sdeJK3vC",
        "outputId": "9cdb4364-0669-4b29-e188-278c529b7fa2"
      },
      "execution_count": null,
      "outputs": [
        {
          "output_type": "execute_result",
          "data": {
            "text/plain": [
              "(3, 4)"
            ]
          },
          "metadata": {},
          "execution_count": 4
        }
      ]
    },
    {
      "cell_type": "code",
      "source": [
        "my1DArray.shape #(4,)"
      ],
      "metadata": {
        "colab": {
          "base_uri": "https://localhost:8080/"
        },
        "id": "cqXb4Jj1RobC",
        "outputId": "7b0381c8-b975-4492-f829-562339d0b8d2"
      },
      "execution_count": null,
      "outputs": [
        {
          "output_type": "execute_result",
          "data": {
            "text/plain": [
              "(4,)"
            ]
          },
          "metadata": {},
          "execution_count": 5
        }
      ]
    },
    {
      "cell_type": "code",
      "source": [
        "a = [1,6,7.6,\"sdas\",\"jhgjg\"]"
      ],
      "metadata": {
        "id": "DTRExD9HLQpU"
      },
      "execution_count": null,
      "outputs": []
    },
    {
      "cell_type": "code",
      "source": [
        "a"
      ],
      "metadata": {
        "colab": {
          "base_uri": "https://localhost:8080/"
        },
        "id": "NVowKx4kLmwI",
        "outputId": "370535c2-f00a-4aee-937c-3955633d62a5"
      },
      "execution_count": null,
      "outputs": [
        {
          "output_type": "execute_result",
          "data": {
            "text/plain": [
              "[1, 6, 7.6, 'sdas', 'jhgjg']"
            ]
          },
          "metadata": {},
          "execution_count": 27
        }
      ]
    },
    {
      "cell_type": "code",
      "source": [
        "a.ndim"
      ],
      "metadata": {
        "id": "fCmJ_exQRur4",
        "colab": {
          "base_uri": "https://localhost:8080/",
          "height": 167
        },
        "outputId": "ec4014b2-61d7-4262-aede-bd988f0b932a"
      },
      "execution_count": null,
      "outputs": [
        {
          "output_type": "error",
          "ename": "AttributeError",
          "evalue": "ignored",
          "traceback": [
            "\u001b[0;31m---------------------------------------------------------------------------\u001b[0m",
            "\u001b[0;31mAttributeError\u001b[0m                            Traceback (most recent call last)",
            "\u001b[0;32m<ipython-input-7-2cb81154a11f>\u001b[0m in \u001b[0;36m<cell line: 1>\u001b[0;34m()\u001b[0m\n\u001b[0;32m----> 1\u001b[0;31m \u001b[0ma\u001b[0m\u001b[0;34m.\u001b[0m\u001b[0mndim\u001b[0m\u001b[0;34m\u001b[0m\u001b[0;34m\u001b[0m\u001b[0m\n\u001b[0m",
            "\u001b[0;31mAttributeError\u001b[0m: 'list' object has no attribute 'ndim'"
          ]
        }
      ]
    },
    {
      "cell_type": "code",
      "source": [
        "b = np.array(a)"
      ],
      "metadata": {
        "id": "1yTwaSUMLast"
      },
      "execution_count": null,
      "outputs": []
    },
    {
      "cell_type": "code",
      "source": [
        "b.ndim    # []"
      ],
      "metadata": {
        "colab": {
          "base_uri": "https://localhost:8080/"
        },
        "id": "0uzW34J_LjfO",
        "outputId": "0955d6a8-46ce-4f20-d12c-00fae0493c40"
      },
      "execution_count": null,
      "outputs": [
        {
          "output_type": "execute_result",
          "data": {
            "text/plain": [
              "1"
            ]
          },
          "metadata": {},
          "execution_count": 29
        }
      ]
    },
    {
      "cell_type": "code",
      "source": [
        "b.dtype"
      ],
      "metadata": {
        "colab": {
          "base_uri": "https://localhost:8080/"
        },
        "id": "C4qwG4-NMGsU",
        "outputId": "1f1d7cf6-213f-4991-df95-20bc98165219"
      },
      "execution_count": null,
      "outputs": [
        {
          "output_type": "execute_result",
          "data": {
            "text/plain": [
              "dtype('<U32')"
            ]
          },
          "metadata": {},
          "execution_count": 30
        }
      ]
    },
    {
      "cell_type": "code",
      "source": [
        "s = [4,5,'sa'] #series , list , array"
      ],
      "metadata": {
        "id": "pDUr7aTYDKuf"
      },
      "execution_count": null,
      "outputs": []
    },
    {
      "cell_type": "code",
      "source": [
        "type(s)"
      ],
      "metadata": {
        "colab": {
          "base_uri": "https://localhost:8080/"
        },
        "id": "66_DoOP0DK0-",
        "outputId": "8abf23c1-1544-4e80-abf0-e43e8af1d561"
      },
      "execution_count": null,
      "outputs": [
        {
          "output_type": "execute_result",
          "data": {
            "text/plain": [
              "list"
            ]
          },
          "metadata": {},
          "execution_count": 3
        }
      ]
    },
    {
      "cell_type": "code",
      "source": [
        " v = np.array(s)"
      ],
      "metadata": {
        "id": "nikIOMuWDTly"
      },
      "execution_count": null,
      "outputs": []
    },
    {
      "cell_type": "code",
      "source": [
        "type(v)"
      ],
      "metadata": {
        "colab": {
          "base_uri": "https://localhost:8080/"
        },
        "id": "SLo1QtF3DYjn",
        "outputId": "d76d5e1d-4d6b-4283-ac31-28f873607de5"
      },
      "execution_count": null,
      "outputs": [
        {
          "output_type": "execute_result",
          "data": {
            "text/plain": [
              "numpy.ndarray"
            ]
          },
          "metadata": {},
          "execution_count": 5
        }
      ]
    },
    {
      "cell_type": "code",
      "execution_count": null,
      "metadata": {
        "colab": {
          "base_uri": "https://localhost:8080/"
        },
        "id": "W8TTFolDk_kn",
        "outputId": "aa6d2566-4950-4e97-ddcd-91eda39ae672"
      },
      "outputs": [
        {
          "output_type": "stream",
          "name": "stdout",
          "text": [
            "<memory at 0x7f713267b380>\n",
            "[[ 1  2  3  4]\n",
            " [ 2  4  9 16]\n",
            " [ 4  8 18 32]]\n",
            "(3, 4)\n",
            "int64\n"
          ]
        }
      ],
      "source": [
        "# Print out memory address\n",
        "print(my2DArray.data)\n",
        "print(my2DArray)\n",
        "\n",
        "# Print the shape of array\n",
        "print(my2DArray.shape)\n",
        "\n",
        "# Print out the data type of the array\n",
        "print(my2DArray.dtype)\n"
      ]
    },
    {
      "cell_type": "code",
      "execution_count": null,
      "metadata": {
        "colab": {
          "base_uri": "https://localhost:8080/"
        },
        "id": "qg4fjRt30ET1",
        "outputId": "4b6591ab-b9a3-4aec-985d-0465f8b7f714"
      },
      "outputs": [
        {
          "data": {
            "text/plain": [
              "(3, 4)"
            ]
          },
          "execution_count": 10,
          "metadata": {},
          "output_type": "execute_result"
        }
      ],
      "source": [
        "my2DArray.shape"
      ]
    },
    {
      "cell_type": "code",
      "execution_count": null,
      "metadata": {
        "colab": {
          "base_uri": "https://localhost:8080/"
        },
        "id": "0AtyqR3llMRr",
        "outputId": "84f6a009-e919-47a4-b089-2b6e2b9224ff"
      },
      "outputs": [
        {
          "name": "stdout",
          "output_type": "stream",
          "text": [
            "(32, 8)\n"
          ]
        }
      ],
      "source": [
        "print(my2DArray.strides)"
      ]
    },
    {
      "cell_type": "markdown",
      "metadata": {
        "id": "Xea7DiYAlbLN"
      },
      "source": [
        "what is stride of array?  It is the number of locations in memory between \n",
        "beginnings of successive array elements, measured in bytes or in units of the\n",
        "size of the array's elements\n",
        "\"\"\"\n"
      ]
    },
    {
      "cell_type": "code",
      "execution_count": null,
      "metadata": {
        "colab": {
          "base_uri": "https://localhost:8080/"
        },
        "id": "K-IRKNM7ljFu",
        "outputId": "aaadf187-da13-472f-810b-1d15a7fb827b"
      },
      "outputs": [
        {
          "output_type": "stream",
          "name": "stdout",
          "text": [
            "[[[1. 1. 1. 1.]\n",
            "  [1. 1. 1. 1.]\n",
            "  [1. 1. 1. 1.]]\n",
            "\n",
            " [[1. 1. 1. 1.]\n",
            "  [1. 1. 1. 1.]\n",
            "  [1. 1. 1. 1.]]\n",
            "\n",
            " [[1. 1. 1. 1.]\n",
            "  [1. 1. 1. 1.]\n",
            "  [1. 1. 1. 1.]]\n",
            "\n",
            " [[1. 1. 1. 1.]\n",
            "  [1. 1. 1. 1.]\n",
            "  [1. 1. 1. 1.]]]\n",
            "[[[0 0 0 0]\n",
            "  [0 0 0 0]\n",
            "  [0 0 0 0]]\n",
            "\n",
            " [[0 0 0 0]\n",
            "  [0 0 0 0]\n",
            "  [0 0 0 0]]\n",
            "\n",
            " [[0 0 0 0]\n",
            "  [0 0 0 0]\n",
            "  [0 0 0 0]]\n",
            "\n",
            " [[0 0 0 0]\n",
            "  [0 0 0 0]\n",
            "  [0 0 0 0]]\n",
            "\n",
            " [[0 0 0 0]\n",
            "  [0 0 0 0]\n",
            "  [0 0 0 0]]]\n",
            "[[7.74860419e-304 7.74860419e-304]\n",
            " [7.74860419e-304 7.74860419e-304]\n",
            " [7.74860419e-304 7.74860419e-304]]\n",
            "[[7 7]\n",
            " [7 7]]\n",
            "[10 15 20]\n",
            "[0.   0.25 0.5  0.75 1.   1.25 1.5  1.75 2.  ]\n"
          ]
        }
      ],
      "source": [
        "#Array using numpy built-in functions\n",
        "# Array of ones\n",
        "ones = np.ones((4,3,4)) # row , colum, no of matrix\n",
        "print(ones)\n",
        "\n",
        "# Array of zeros\n",
        "zeros = np.zeros((5,3,4),dtype=np.int16) # 2, 50,500,578687669696\n",
        "print(zeros)\n",
        "\n",
        "# Array with random values\n",
        "s =np.random.random((2,2))\n",
        "            \n",
        "# Empty array\n",
        "emptyArray = np.empty((3,2))\n",
        "print(emptyArray)\n",
        "\n",
        "# Full array\n",
        "fullArray = np.full((2,2),7)\n",
        "print(fullArray)\n",
        "\n",
        "# Array of evenly-spaced values\n",
        "evenSpacedArray = np.arange(10,25,5)\n",
        "print(evenSpacedArray)\n",
        "\n",
        "# Array of evenly-spaced values\n",
        "evenSpacedArray2 = np.linspace(0,2,9)\n",
        "print(evenSpacedArray2)"
      ]
    },
    {
      "cell_type": "code",
      "execution_count": null,
      "metadata": {
        "colab": {
          "base_uri": "https://localhost:8080/"
        },
        "id": "_bLtRiePLI8T",
        "outputId": "719b3b35-0895-4079-d3ca-d703529ad0cf"
      },
      "outputs": [
        {
          "data": {
            "text/plain": [
              "array([[[0, 0, 0, 0],\n",
              "        [0, 0, 0, 0],\n",
              "        [0, 0, 0, 0]],\n",
              "\n",
              "       [[0, 0, 0, 0],\n",
              "        [0, 0, 0, 0],\n",
              "        [0, 0, 0, 0]],\n",
              "\n",
              "       [[0, 0, 0, 0],\n",
              "        [0, 0, 0, 0],\n",
              "        [0, 0, 0, 0]],\n",
              "\n",
              "       [[0, 0, 0, 0],\n",
              "        [0, 0, 0, 0],\n",
              "        [0, 0, 0, 0]],\n",
              "\n",
              "       [[0, 0, 0, 0],\n",
              "        [0, 0, 0, 0],\n",
              "        [0, 0, 0, 0]]], dtype=int16)"
            ]
          },
          "execution_count": 7,
          "metadata": {},
          "output_type": "execute_result"
        }
      ],
      "source": [
        "zeros"
      ]
    },
    {
      "cell_type": "code",
      "execution_count": null,
      "metadata": {
        "colab": {
          "base_uri": "https://localhost:8080/"
        },
        "id": "OHIh3tc4L1pw",
        "outputId": "bed579cf-1728-404d-aff5-b85258cc4f24"
      },
      "outputs": [
        {
          "data": {
            "text/plain": [
              "array([[0.3510922 , 0.57800863],\n",
              "       [0.10633287, 0.5591529 ]])"
            ]
          },
          "execution_count": 9,
          "metadata": {},
          "output_type": "execute_result"
        }
      ],
      "source": [
        "s"
      ]
    },
    {
      "cell_type": "code",
      "execution_count": null,
      "metadata": {
        "colab": {
          "base_uri": "https://localhost:8080/"
        },
        "id": "QneN6Q85l-8x",
        "outputId": "f759cf69-dc54-4192-ed1c-3d25ca0e0371"
      },
      "outputs": [
        {
          "data": {
            "text/plain": [
              "array([[4.67020372e-310, 4.94065646e-324],\n",
              "       [4.94065646e-324, 0.00000000e+000],\n",
              "       [0.00000000e+000, 0.00000000e+000]])"
            ]
          },
          "execution_count": 3,
          "metadata": {},
          "output_type": "execute_result"
        }
      ],
      "source": [
        "emptyArray"
      ]
    },
    {
      "cell_type": "code",
      "execution_count": null,
      "metadata": {
        "colab": {
          "base_uri": "https://localhost:8080/"
        },
        "id": "TisW_jUZKqh1",
        "outputId": "88ecead9-3ed4-455e-a5b6-a3dc19cd7162"
      },
      "outputs": [
        {
          "data": {
            "text/plain": [
              "array([[0.19097417, 0.34202638],\n",
              "       [0.58400162, 0.64276739]])"
            ]
          },
          "execution_count": 5,
          "metadata": {},
          "output_type": "execute_result"
        }
      ],
      "source": [
        "s"
      ]
    },
    {
      "cell_type": "code",
      "execution_count": null,
      "metadata": {
        "colab": {
          "base_uri": "https://localhost:8080/"
        },
        "id": "CeqNqaYh1Unn",
        "outputId": "4b6b9c4c-2756-4647-d12f-79c5497489ec"
      },
      "outputs": [
        {
          "data": {
            "text/plain": [
              "array([[[ 5.+0.j,  3.+0.j,  9.+0.j, 10.+0.j],\n",
              "        [ 6.+0.j,  7.+0.j,  8.+0.j,  3.+0.j],\n",
              "        [ 7.+0.j,  5.+0.j,  7.+0.j,  9.+0.j]],\n",
              "\n",
              "       [[ 7.+0.j,  6.+0.j,  5.+0.j,  9.+0.j],\n",
              "        [ 6.+0.j,  7.+0.j,  8.+0.j,  6.+0.j],\n",
              "        [ 4.+0.j,  7.+0.j,  8.+0.j,  9.+0.j]]])"
            ]
          },
          "execution_count": 7,
          "metadata": {},
          "output_type": "execute_result"
        }
      ],
      "source": [
        "r = np.array([[[5,3,9,10],[6,7,8,3],[7,5,7,9]],[[7,6,5,9],[6,7,8,6],[4,7,8,9]]],dtype = complex) #3 *4 , 1*4\n",
        "\n",
        "\n",
        "\n",
        "r.ndim # 3\n",
        "r.shape  #67+-9kly\n",
        "r\n",
        "\n"
      ]
    },
    {
      "cell_type": "code",
      "execution_count": null,
      "metadata": {
        "colab": {
          "base_uri": "https://localhost:8080/"
        },
        "id": "6hAK0Y-oJPpM",
        "outputId": "8e212884-209c-4e77-ce6f-871f33ddb711"
      },
      "outputs": [
        {
          "data": {
            "text/plain": [
              "(7+0j)"
            ]
          },
          "execution_count": 8,
          "metadata": {},
          "output_type": "execute_result"
        }
      ],
      "source": [
        "\n",
        "i = 0\n",
        "j = 1\n",
        "k = 1\n",
        "r[i,j,k]"
      ]
    },
    {
      "cell_type": "code",
      "execution_count": null,
      "metadata": {
        "colab": {
          "base_uri": "https://localhost:8080/"
        },
        "id": "PIDBDbqY3eGe",
        "outputId": "7e9381e1-dffe-462d-bf08-da8a22a322bb"
      },
      "outputs": [
        {
          "data": {
            "text/plain": [
              "array([[ 5,  3,  9, 10],\n",
              "       [ 6,  7,  8,  3],\n",
              "       [ 7,  5,  7,  9]])"
            ]
          },
          "execution_count": 2,
          "metadata": {},
          "output_type": "execute_result"
        }
      ],
      "source": [
        "t = np.array([[5,3,9,10],[6,7,8,3],[7,5,7,9]]) # matrix\n",
        "t"
      ]
    },
    {
      "cell_type": "code",
      "execution_count": null,
      "metadata": {
        "colab": {
          "base_uri": "https://localhost:8080/"
        },
        "id": "e3toxE4YJGmH",
        "outputId": "5714d25c-d0d0-45fd-8217-dcb817d01d96"
      },
      "outputs": [
        {
          "data": {
            "text/plain": [
              "array([[6, 7, 8, 3]])"
            ]
          },
          "execution_count": 3,
          "metadata": {},
          "output_type": "execute_result"
        }
      ],
      "source": [
        "t[1:2] # end-1"
      ]
    },
    {
      "cell_type": "code",
      "execution_count": null,
      "metadata": {
        "colab": {
          "base_uri": "https://localhost:8080/"
        },
        "id": "uog5N_Ky3lO6",
        "outputId": "0ae21cd8-e218-4395-ae48-8f463f35be75"
      },
      "outputs": [
        {
          "data": {
            "text/plain": [
              "array([ 5,  3,  9, 10])"
            ]
          },
          "execution_count": 26,
          "metadata": {},
          "output_type": "execute_result"
        }
      ],
      "source": [
        "y = np.array([5,3,9,10]) #series\n",
        "y"
      ]
    },
    {
      "cell_type": "code",
      "execution_count": null,
      "metadata": {
        "colab": {
          "base_uri": "https://localhost:8080/"
        },
        "id": "qQIgFBUm2Zph",
        "outputId": "7027fe13-4112-48fb-84be-0e413fc872c0"
      },
      "outputs": [
        {
          "data": {
            "text/plain": [
              "3"
            ]
          },
          "execution_count": 23,
          "metadata": {},
          "output_type": "execute_result"
        }
      ],
      "source": [
        "r.ndim"
      ]
    },
    {
      "cell_type": "code",
      "execution_count": null,
      "metadata": {
        "colab": {
          "base_uri": "https://localhost:8080/"
        },
        "id": "CE2z4Cfq2gCc",
        "outputId": "ccda2492-9b25-43c4-8b95-bcbb26fadf48"
      },
      "outputs": [
        {
          "data": {
            "text/plain": [
              "(3, 4)"
            ]
          },
          "execution_count": 18,
          "metadata": {},
          "output_type": "execute_result"
        }
      ],
      "source": [
        "r.shape"
      ]
    },
    {
      "cell_type": "code",
      "execution_count": null,
      "metadata": {
        "colab": {
          "base_uri": "https://localhost:8080/"
        },
        "id": "nRXoLx3FJrEy",
        "outputId": "f588885a-3f63-4b32-9576-e23de893be9f"
      },
      "outputs": [
        {
          "data": {
            "text/plain": [
              "array([[ 5.+0.j,  3.+0.j,  9.+0.j, 10.+0.j],\n",
              "       [ 6.+0.j,  7.+0.j,  8.+0.j,  3.+0.j],\n",
              "       [ 7.+0.j,  5.+0.j,  7.+0.j,  9.+0.j]])"
            ]
          },
          "execution_count": 10,
          "metadata": {},
          "output_type": "execute_result"
        }
      ],
      "source": [
        "r[0,:,:]"
      ]
    },
    {
      "cell_type": "code",
      "execution_count": null,
      "metadata": {
        "colab": {
          "base_uri": "https://localhost:8080/"
        },
        "id": "_wzHQ_oLKWQU",
        "outputId": "f22f8fc3-bb5e-4dff-adde-1ff917808873"
      },
      "outputs": [
        {
          "data": {
            "text/plain": [
              "array([[False, False, False,  True],\n",
              "       [ True, False,  True, False],\n",
              "       [False, False, False, False]])"
            ]
          },
          "execution_count": 13,
          "metadata": {},
          "output_type": "execute_result"
        }
      ],
      "source": [
        "t % 2 == 0"
      ]
    },
    {
      "cell_type": "code",
      "execution_count": null,
      "metadata": {
        "colab": {
          "base_uri": "https://localhost:8080/"
        },
        "id": "oMDvRIE1KjJY",
        "outputId": "5dd1630e-3921-4e33-8f58-a16879918777"
      },
      "outputs": [
        {
          "data": {
            "text/plain": [
              "array([10,  6,  8])"
            ]
          },
          "execution_count": 15,
          "metadata": {},
          "output_type": "execute_result"
        }
      ],
      "source": [
        "t[t %2 == 0] #show s the value whever the condition is true "
      ]
    },
    {
      "cell_type": "code",
      "execution_count": null,
      "metadata": {
        "id": "wXzWimp5NEp9"
      },
      "outputs": [],
      "source": []
    },
    {
      "cell_type": "code",
      "execution_count": null,
      "metadata": {
        "colab": {
          "base_uri": "https://localhost:8080/"
        },
        "id": "jHLBF3czK-Ss",
        "outputId": "474b697e-ec6e-4f5c-e9a1-e04817231595"
      },
      "outputs": [
        {
          "data": {
            "text/plain": [
              "array([[ 5,  3,  9, 10],\n",
              "       [ 6,  7,  8,  3],\n",
              "       [ 7,  5,  7,  9]])"
            ]
          },
          "execution_count": 16,
          "metadata": {},
          "output_type": "execute_result"
        }
      ],
      "source": [
        "t"
      ]
    },
    {
      "cell_type": "code",
      "execution_count": null,
      "metadata": {
        "id": "8MSPuXtQNxNG"
      },
      "outputs": [],
      "source": [
        "my_indeces = [2,1]"
      ]
    },
    {
      "cell_type": "code",
      "execution_count": null,
      "metadata": {
        "colab": {
          "base_uri": "https://localhost:8080/"
        },
        "id": "xcZSNqXnN6xV",
        "outputId": "41e4b8fc-2649-41b0-8f3e-f89c395cf826"
      },
      "outputs": [
        {
          "data": {
            "text/plain": [
              "array([[7, 5, 7, 9],\n",
              "       [6, 7, 8, 3]])"
            ]
          },
          "execution_count": 25,
          "metadata": {},
          "output_type": "execute_result"
        }
      ],
      "source": [
        "t[my_indeces]"
      ]
    },
    {
      "cell_type": "code",
      "execution_count": null,
      "metadata": {
        "id": "x-kpd1qMOR24"
      },
      "outputs": [],
      "source": [
        "# Broadcasting in NumPy\n",
        "#Scalar and One-Dimensional Array\n",
        "import array"
      ]
    },
    {
      "cell_type": "code",
      "execution_count": null,
      "metadata": {
        "id": "CSdf_lvDb3TC"
      },
      "outputs": [],
      "source": [
        "a = np.array([1, 2, 3])"
      ]
    },
    {
      "cell_type": "code",
      "execution_count": null,
      "metadata": {
        "id": "FqVf0QUJb_eQ"
      },
      "outputs": [],
      "source": [
        "b = np.array([8,7,9])"
      ]
    },
    {
      "cell_type": "code",
      "execution_count": null,
      "metadata": {
        "id": "0JEWpwXKcCll"
      },
      "outputs": [],
      "source": [
        "c = a + b"
      ]
    },
    {
      "cell_type": "code",
      "execution_count": null,
      "metadata": {
        "colab": {
          "base_uri": "https://localhost:8080/"
        },
        "id": "PXb7oeBwcGXT",
        "outputId": "396e08b9-6523-49c9-9ec6-2e0f68cb81d4"
      },
      "outputs": [
        {
          "data": {
            "text/plain": [
              "array([ 9,  9, 12])"
            ]
          },
          "execution_count": 41,
          "metadata": {},
          "output_type": "execute_result"
        }
      ],
      "source": [
        "c"
      ]
    },
    {
      "cell_type": "code",
      "execution_count": null,
      "metadata": {
        "id": "NIhgjfXacvJ0"
      },
      "outputs": [],
      "source": [
        "#Scalar and Two-Dimensional Array"
      ]
    },
    {
      "cell_type": "code",
      "execution_count": null,
      "metadata": {
        "id": "KkA5US2VcqRU"
      },
      "outputs": [],
      "source": [
        "k = np.array([5,3,6,7,9])\n",
        "j=np.array([4,2,6,9,8])"
      ]
    },
    {
      "cell_type": "code",
      "execution_count": null,
      "metadata": {
        "id": "K0lBCP9WdBud"
      },
      "outputs": [],
      "source": [
        "g = k+j"
      ]
    },
    {
      "cell_type": "code",
      "execution_count": null,
      "metadata": {
        "colab": {
          "base_uri": "https://localhost:8080/"
        },
        "id": "7Yd1PMdFdFd4",
        "outputId": "8b2cd276-0a87-48f7-d73a-7aa785c30c1f"
      },
      "outputs": [
        {
          "data": {
            "text/plain": [
              "array([ 9,  5, 12, 16, 17])"
            ]
          },
          "execution_count": 51,
          "metadata": {},
          "output_type": "execute_result"
        }
      ],
      "source": [
        "g"
      ]
    },
    {
      "cell_type": "code",
      "execution_count": null,
      "metadata": {
        "colab": {
          "background_save": true
        },
        "id": "Klp-pn5sdv3v",
        "outputId": "fe3efb1b-9078-45e4-e30a-a6eb1774ff5b"
      },
      "outputs": [
        {
          "data": {
            "text/plain": [
              "array([[ 63, 320,  83],\n",
              "       [ 77, 484, 102],\n",
              "       [ 84, 248, 117]])"
            ]
          },
          "execution_count": null,
          "metadata": {},
          "output_type": "execute_result"
        }
      ],
      "source": []
    }
  ],
  "metadata": {
    "colab": {
      "provenance": []
    },
    "kernelspec": {
      "display_name": "Python 3",
      "name": "python3"
    },
    "language_info": {
      "name": "python"
    }
  },
  "nbformat": 4,
  "nbformat_minor": 0
}